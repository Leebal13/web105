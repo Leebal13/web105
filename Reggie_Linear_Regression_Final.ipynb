{
 "cells": [
  {
   "cell_type": "markdown",
   "metadata": {},
   "source": [
    "# プロジェクト: 線形回帰\n",
    "\n",
    "レジーはマッドサイエンティストで、地元のファーストフード店に雇われ、遊び場に最新のボールピットを建設しました。 そのため、ピットを最適化するために、さまざまなボールの弾みの研究に取り組んでいます。 彼はさまざまなサイズの弾むボールを弾ませる実験を行っており、記録したデータ ポイントに線を当てはめています。 彼は線形回帰について聞いたことがありますが、線形回帰のバージョンを Python で実装するにはあなたの助けが必要です。\n",
    "\n",
    "_Linear Regression_ は、グラフ上に点のグループがあり、その点のグループにほぼ似た線を見つけた場合です。 優れた線形回帰アルゴリズムは、_error_、つまり各点から線までの距離を最小化します。 誤差が最小の線は、データに最もよく適合する線です。 これを _best fit_ のラインと呼びます。\n",
    "\n",
    "ループ、リスト、算術演算を使用して、データ セットが与えられたときに最適な行を見つける関数を作成します。\n"
   ]
  },
  {
   "cell_type": "markdown",
   "metadata": {},
   "source": [
    "## パート 1: 計算エラー"
   ]
  },
  {
   "cell_type": "markdown",
   "metadata": {},
   "source": [
    "最終的な行には、次のような式が含まれます。\n",
    "```\n",
    "y = m*x + b\n",
    "```\n",
    "「m」は線の傾き、「b」は線が y 軸と交差する切片です。\n",
    "\n",
    "`m`、`b`、および `x` を受け取り、その行の `x` の `y` 値が何であるかを返す `get_y()` という関数を作成してください!\n"
   ]
  },
  {
   "cell_type": "code",
   "execution_count": 3,
   "metadata": {},
   "outputs": [
    {
     "data": {
      "text/plain": [
       "True"
      ]
     },
     "execution_count": 3,
     "metadata": {},
     "output_type": "execute_result"
    }
   ],
   "source": [
    "def get_y(m, b, x):\n",
    "  y = m*x + b\n",
    "  return y\n",
    "\n",
    "get_y(1, 0, 7) == 7\n",
    "get_y(5, 10, 3) == 25\n"
   ]
  },
  {
   "cell_type": "markdown",
   "metadata": {},
   "source": [
    "\n",
    "Reggie は、一連の異なる `m` 値と `b` 値を試して、どの行が最小のエラーを生成するかを確認したいと考えています。 点と線の間の誤差を計算するには、「calculate_error()」という関数が必要です。この関数は、「m」、「b」、および「point」と呼ばれる [x, y] ポイントを受け取り、間の距離を返します。 線と点。\n",
    "\n",
    "距離を見つけるには:\n",
    "1. ポイントから x 値を取得し、それを「x_point」という変数に格納します\n",
    "2. ポイントから y 値を取得し、それを「y_point」という変数に格納します\n",
    "3. `get_y()` を使用して、`x_point` が線上にある y 値を取得します\n",
    "4. `get_y` と `y_point` の y の違いを見つける\n",
    "5. 距離の絶対値を返す (これには組み込み関数 `abs()` を使用できます)\n",
    "\n",
    "距離は、線 `y = m*x + b` と指定された `point` の間の誤差を表します。\n"
   ]
  },
  {
   "cell_type": "code",
   "execution_count": 11,
   "metadata": {},
   "outputs": [],
   "source": [
    "def calculate_error(m, b, point):\n",
    "  x_point, y_point = point\n",
    "  y = m*x_point + b\n",
    "  distance = abs(y - y_point)\n",
    "  return distance\n"
   ]
  },
  {
   "cell_type": "markdown",
   "metadata": {},
   "source": [
    "この機能をテストしてみましょう。"
   ]
  },
  {
   "cell_type": "code",
   "execution_count": 12,
   "metadata": {},
   "outputs": [
    {
     "name": "stdout",
     "output_type": "stream",
     "text": [
      "0\n",
      "1\n",
      "1\n",
      "5\n"
     ]
    }
   ],
   "source": [
    "#this is a line that looks like y = x, so (3, 3) should lie on it. thus, error should be 0:\n",
    "print(calculate_error(1, 0, (3, 3)))\n",
    "#the point (3, 4) should be 1 unit away from the line y = x:\n",
    "print(calculate_error(1, 0, (3, 4)))\n",
    "#the point (3, 3) should be 1 unit away from the line y = x - 1:\n",
    "print(calculate_error(1, -1, (3, 3)))\n",
    "#the point (3, 3) should be 5 units away from the line y = -x + 1:\n",
    "print(calculate_error(-1, 1, (3, 3)))"
   ]
  },
  {
   "cell_type": "markdown",
   "metadata": {
    "collapsed": true
   },
   "source": [
    "すごい！ Reggie のデータセットは点のセットになります。 たとえば、弾むボールの幅と弾む高さを比較する実験を行いました。"
   ]
  },
  {
   "cell_type": "code",
   "execution_count": 13,
   "metadata": {},
   "outputs": [],
   "source": [
    "datapoints = [(1, 2), (2, 0), (3, 4), (4, 4), (5, 3)]"
   ]
  },
  {
   "cell_type": "markdown",
   "metadata": {
    "collapsed": true
   },
   "source": [
    "最初のデータポイント `(1, 2)` は、彼の 1cm の弾むボールが 2 メートル跳ね返ったことを意味します。 4cmの弾むボールが4m跳ねた。\n",
    "\n",
    "線をこのデータに当てはめようとすると、線を記述する「m」と「b」、および上記の例のようなデータのセットである「points」を受け取る「calculate_all_error」という関数が必要になります。\n",
    "\n",
    "`calculate_all_error` は、`points` 内の各 `point` を繰り返し処理し、その点からラインまでの誤差を計算する必要があります (`calculate_error` を使用)。 エラーの現在の合計を保持し、ループの後にその合計を返す必要があります。"
   ]
  },
  {
   "cell_type": "code",
   "execution_count": 14,
   "metadata": {},
   "outputs": [],
   "source": [
    "def calculate_all_error(m, b, datapoints):\n",
    "    total_error = 0\n",
    "    for point in datapoints:\n",
    "        point_error = calculate_error(m, b, point)\n",
    "        total_error += point_error\n",
    "    return total_error"
   ]
  },
  {
   "cell_type": "markdown",
   "metadata": {},
   "source": [
    "この機能をテストしてみましょう。"
   ]
  },
  {
   "cell_type": "code",
   "execution_count": 15,
   "metadata": {},
   "outputs": [
    {
     "name": "stdout",
     "output_type": "stream",
     "text": [
      "0\n",
      "4\n",
      "4\n",
      "18\n"
     ]
    }
   ],
   "source": [
    "#every point in this dataset lies upon y=x, so the total error should be zero:\n",
    "datapoints = [(1, 1), (3, 3), (5, 5), (-1, -1)]\n",
    "print(calculate_all_error(1, 0, datapoints))\n",
    "\n",
    "#every point in this dataset is 1 unit away from y = x + 1, so the total error should be 4:\n",
    "datapoints = [(1, 1), (3, 3), (5, 5), (-1, -1)]\n",
    "print(calculate_all_error(1, 1, datapoints))\n",
    "\n",
    "#every point in this dataset is 1 unit away from y = x - 1, so the total error should be 4:\n",
    "datapoints = [(1, 1), (3, 3), (5, 5), (-1, -1)]\n",
    "print(calculate_all_error(1, -1, datapoints))\n",
    "\n",
    "\n",
    "#the points in this dataset are 1, 5, 9, and 3 units away from y = -x + 1, respectively, so total error should be\n",
    "# 1 + 5 + 9 + 3 = 18\n",
    "datapoints = [(1, 1), (3, 3), (5, 5), (-1, -1)]\n",
    "print(calculate_all_error(-1, 1, datapoints))"
   ]
  },
  {
   "cell_type": "code",
   "execution_count": null,
   "metadata": {},
   "outputs": [],
   "source": []
  },
  {
   "cell_type": "markdown",
   "metadata": {},
   "source": [
    "すごい！ これで、行と Reggie のデータを取り込んで、その行をデータに適合させようとしたときにその行が生成するエラーの量を返すことができる関数ができたようです。\n",
    "\n",
    "次のステップは、このエラーを最小化し、データに最も適合する `m` と `b` を見つけることです!\n"
   ]
  },
  {
   "cell_type": "markdown",
   "metadata": {},
   "source": [
    "## パート 2: たくさんのスロープとインターセプトを試してみましょう!"
   ]
  },
  {
   "cell_type": "markdown",
   "metadata": {},
   "source": [
    "# Reggie が最適なラインを見つけようとする方法は、試行錯誤によるものです。 彼は、さまざまな勾配 (`m` 値) とさまざまな切片 (`b` 値) を試して、どれがデータセットの最小のエラー値を生成するかを確認したいと考えています。\n",
    "\n",
    "リスト内包表記を使用して、可能な `m` 値のリストを作成してみましょう。 0.1 刻みで -10 から 10 までのリスト `possible_ms` を作成します。\n",
    "\n",
    "ヒント (ヒントを表示するには、このセルをダブルクリックして非表示のテキストを表示します):\n",
    "<span style=\"visibility: hidden;\">\n",
    "   範囲（-100、101）の値を調べて、それぞれに0.1を掛けることができます\n",
    "</span>\n"
   ]
  },
  {
   "cell_type": "code",
   "execution_count": 16,
   "metadata": {},
   "outputs": [],
   "source": [
    "possible_ms = [m * 0.1 for m in range(-100, 101)]"
   ]
  },
  {
   "cell_type": "markdown",
   "metadata": {},
   "source": [
    "それでは、0.1 刻みで -20 から 20 までの値を確認するための `possible_bs` のリストを作成しましょう。"
   ]
  },
  {
   "cell_type": "code",
   "execution_count": 17,
   "metadata": {},
   "outputs": [],
   "source": [
    "possible_bs = [b * 0.1 for b in range(-200, 201)]"
   ]
  },
  {
   "cell_type": "markdown",
   "metadata": {},
   "source": [
    "最小のエラーを見つけます。まず、考えられるすべての `m` と考えられるすべての `b` をペアにして、考えられるすべての `y = m*x + b` の行を作成します。次に、どの「y = m*x + b」行が、「datapoint」に格納されたデータ セットで最小の合計誤差を生成するかを確認します。\n",
    "\n",
    "まず、最適化する変数を作成します。\n",
    "* `smallest_error` &mdash;これは無限大 (`float(\"inf\")`) から開始する必要があるため、最初に発生するエラーはすべて `smallest_error` の値よりも小さくなります。\n",
    "* `best_m` &mdash;これを「0」から開始できます\n",
    "* `best_b` &mdash;これを「0」から開始できます\n",
    "\n",
    "私たちはしたい:\n",
    "* `possible_ms` の各要素 `m` を繰り返す\n",
    "* すべての `m` 値について、`possible_bs` のすべての `b` 値を取得します\n",
    "* この `m` 値、この `b` 値、および `datapoints` に対する `calculate_all_error` から返された値が、現在の `smallest_error` より小さい場合、\n",
    "* `best_m` と `best_b` をこれらの値に設定し、`smallest_error` をこのエラーに設定します。\n",
    "\n",
    "これらの入れ子になったループの終わりまでに、「smallest_error」には見つかった最小のエラーが保持され、「best_m」と「best_b」はその最小のエラー値を生成した値になります。\n",
    "\n",
    "ループ後に「best_m」、「best_b」、「smallest_error」を出力します。\n"
   ]
  },
  {
   "cell_type": "code",
   "execution_count": 19,
   "metadata": {},
   "outputs": [
    {
     "name": "stdout",
     "output_type": "stream",
     "text": [
      "0.30000000000000004 1.7000000000000002 4.999999999999999\n"
     ]
    }
   ],
   "source": [
    "datapoints = [(1, 2), (2, 0), (3, 4), (4, 4), (5, 3)]\n",
    "smallest_error = float(\"inf\")\n",
    "best_m = 0\n",
    "best_b = 0\n",
    "\n",
    "for m in possible_ms:\n",
    "    for b in possible_bs:\n",
    "   \t error = calculate_all_error(m, b, datapoints)\n",
    "   \t if error < smallest_error:\n",
    "   \t\t best_m = m\n",
    "   \t\t best_b = b\n",
    "   \t\t smallest_error = error\n",
    "       \t \n",
    "print(best_m, best_b, smallest_error)\n"
   ]
  },
  {
   "cell_type": "markdown",
   "metadata": {},
   "source": [
    "## パート 3: モデルは何を予測するか?\n",
    "\n",
    "ここで、弾むボールに関するこの一連の観測について、データに最もよく適合する線は、「m」が 0.3 で「b」が 1.7 であることがわかりました。\n",
    "\n",
    "```\n",
    "y = 0.3x + 1.7\n",
    "```\n",
    "\n",
    "この行は合計 5 のエラーを生成しました。\n",
    "\n",
    "この `m` とこの `b` を使用して、幅 6 のボールの跳ね返りの高さを線で予測しますか?\n",
    "つまり、次のように呼び出したときの `get_y()` の出力は何ですか。\n",
    "* m = 0.3\n",
    "* b = 1.7\n",
    "* × = 6"
   ]
  },
  {
   "cell_type": "code",
   "execution_count": 20,
   "metadata": {},
   "outputs": [
    {
     "data": {
      "text/plain": [
       "3.5"
      ]
     },
     "execution_count": 20,
     "metadata": {},
     "output_type": "execute_result"
    }
   ],
   "source": [
    "get_y(0.3, 1.7, 6)"
   ]
  },
  {
   "cell_type": "markdown",
   "metadata": {},
   "source": [
    "私たちのモデルは、6cm のボールが 3.5m 跳ね返ると予測しています。\n",
    "\n",
    "これで、Reggie はこのモデルを使用して、ボール ピットに含めることを選択したあらゆる種類のサイズのボールの跳ね返りを予測できるようになりました。"
   ]
  },
  {
   "cell_type": "code",
   "execution_count": null,
   "metadata": {
    "collapsed": true
   },
   "outputs": [],
   "source": []
  }
 ],
 "metadata": {
  "kernelspec": {
   "display_name": "Python 3 (ipykernel)",
   "language": "python",
   "name": "python3"
  },
  "language_info": {
   "codemirror_mode": {
    "name": "ipython",
    "version": 3
   },
   "file_extension": ".py",
   "mimetype": "text/x-python",
   "name": "python",
   "nbconvert_exporter": "python",
   "pygments_lexer": "ipython3",
   "version": "3.7.13"
  }
 },
 "nbformat": 4,
 "nbformat_minor": 2
}
